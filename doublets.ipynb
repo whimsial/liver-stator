{
 "cells": [
  {
   "cell_type": "code",
   "execution_count": 1,
   "id": "0",
   "metadata": {},
   "outputs": [],
   "source": [
    "import scanpy as sc\n",
    "import scrublet as scr\n",
    "import scipy.io\n",
    "import matplotlib.pyplot as plt\n",
    "import numpy as np\n",
    "import pandas as pd\n",
    "import os\n",
    "import sys\n",
    "import getopt"
   ]
  },
  {
   "cell_type": "code",
   "execution_count": 2,
   "id": "1",
   "metadata": {},
   "outputs": [],
   "source": [
    "#  plt.rcParams['font.family'] = 'sans-serif'\n",
    "plt.rcParams['font.sans-serif'] = 'Arial'\n",
    "plt.rc('font', size=14)\n",
    "plt.rcParams['pdf.fonttype'] = 42"
   ]
  },
  {
   "cell_type": "code",
   "execution_count": null,
   "id": "2",
   "metadata": {},
   "outputs": [],
   "source": [
    "study = \"Ramachandran\"\n",
    "data_dir = \"/opt/datastore/aiakovliev/liver\"\n",
    "input_dir = os.path.join(data_dir, study)\n",
    "file_list = os.path.join(input_dir, \"metadata.txt\")\n",
    "sample_dirs = pd.read_csv(file_list)[\"sample.dir\"].tolist()\n",
    "print(sample_dirs.__class__.__name__)"
   ]
  },
  {
   "cell_type": "code",
   "execution_count": 3,
   "id": "3",
   "metadata": {},
   "outputs": [
    {
     "name": "stdout",
     "output_type": "stream",
     "text": [
      "/exports/igmm/eddie/ponting-lab/ava/ME_CSF_Hifibio/raw_data/PLRC_HD055V2_fresh_PBMC_CD8_10xscGEX/outs/raw_feature_bc_matrix/\n",
      "AnnData\n"
     ]
    }
   ],
   "source": [
    "#this_dir = sample_dirs[0]\n",
    "this_dir = \"/exports/igmm/eddie/ponting-lab/ava/ME_CSF_Hifibio/raw_data/PLRC_HD055V2_fresh_PBMC_CD8_10xscGEX/outs/raw_feature_bc_matrix/\"\n",
    "print(this_dir)\n",
    "# load count matrix in mtx format\n",
    "counts_matrix = sc.read_10x_mtx(\n",
    "    this_dir,  # the directory with the `.mtx` file\n",
    "    var_names='gene_symbols',   # use gene symbols for the variable names (genes)\n",
    "    cache=True                 # cache the data\n",
    ")\n",
    "# alternatively laod count matrix in h5 format (if available)\n",
    "if False: \n",
    "    counts_matrix = sc.read_10x_h5(this_dir)\n",
    "print(counts_matrix.__class__.__name__)\n",
    "# counts_matrix = sc.read_10x_h5(os.path.join(this_dir, \"matrix.mtx\"))\n",
    "#counts_matrix = scipy.io.mmread(input_dir + '/matrix.mtx').T.tocsc()\n",
    "#genes = np.array(scr.load_genes(input_dir + '/features.tsv', delimiter='\\t', column=1))\n",
    "#print('Counts matrix shape: {} rows, {} columns'.format(counts_matrix.shape[0], counts_matrix.shape[1]))\n",
    "#print('Number of genes in gene list: {}'.format(len(genes)))"
   ]
  },
  {
   "cell_type": "code",
   "execution_count": 20,
   "id": "fa2e826e-d2a1-48ae-a40d-0f8214fbfec4",
   "metadata": {},
   "outputs": [
    {
     "name": "stdout",
     "output_type": "stream",
     "text": [
      "Counts matrix shape: 325863 rows, 36601 columns\n",
      "              barcode\n",
      "0  AAACCTGAGAAACCGC-1\n",
      "1  AAACCTGAGAACTCGG-1\n",
      "2  AAACCTGAGATGCCAG-1\n",
      "3  AAACCTGAGCGTTCCG-1\n",
      "4  AAACCTGAGGCTAGGT-1\n",
      "Counts matrix shape: 8026 rows, 36601 columns\n"
     ]
    }
   ],
   "source": [
    "print('Counts matrix shape: {} rows, {} columns'.format(counts_matrix.shape[0], counts_matrix.shape[1]))\n",
    "# Filter out empty droplets\n",
    "target_barcodes = pd.read_csv(os.path.join(this_dir, 'true_cells.csv'), header=None, names=['barcode'])\n",
    "print(target_barcodes.head())\n",
    "# print(counts_matrix.obs_names)\n",
    "counts_matrix = counts_matrix[counts_matrix.obs_names.isin(target_barcodes['barcode']), :]\n",
    "print('Counts matrix shape: {} rows, {} columns'.format(counts_matrix.shape[0], counts_matrix.shape[1]))"
   ]
  },
  {
   "cell_type": "code",
   "execution_count": 21,
   "id": "4",
   "metadata": {},
   "outputs": [
    {
     "name": "stdout",
     "output_type": "stream",
     "text": [
      "EDR: 0.064208\n",
      "Preprocessing...\n",
      "Simulating doublets...\n",
      "Embedding transcriptomes using PCA...\n",
      "Calculating doublet scores...\n"
     ]
    },
    {
     "name": "stderr",
     "output_type": "stream",
     "text": [
      "findfont: Generic family 'sans-serif' not found because none of the following families were found: Arial\n",
      "findfont: Generic family 'sans-serif' not found because none of the following families were found: Arial\n",
      "findfont: Generic family 'sans-serif' not found because none of the following families were found: Arial\n",
      "findfont: Generic family 'sans-serif' not found because none of the following families were found: Arial\n",
      "findfont: Generic family 'sans-serif' not found because none of the following families were found: Arial\n"
     ]
    },
    {
     "name": "stdout",
     "output_type": "stream",
     "text": [
      "Automatically set threshold at doublet score = 0.26\n",
      "Detected doublet rate = 5.0%\n",
      "Estimated detectable doublet fraction = 62.1%\n",
      "Overall doublet rate:\n",
      "\tExpected   = 6.4%\n",
      "\tEstimated  = 8.0%\n",
      "Elapsed time: 21.3 seconds\n",
      "Detected doublet rate = 7.4%\n",
      "Estimated detectable doublet fraction = 70.2%\n",
      "Overall doublet rate:\n",
      "\tExpected   = 6.4%\n",
      "\tEstimated  = 10.6%\n"
     ]
    },
    {
     "name": "stderr",
     "output_type": "stream",
     "text": [
      "findfont: Font family ['sans-serif'] not found. Falling back to DejaVu Sans.\n",
      "findfont: Generic family 'sans-serif' not found because none of the following families were found: Arial\n",
      "findfont: Generic family 'sans-serif' not found because none of the following families were found: Arial\n",
      "findfont: Generic family 'sans-serif' not found because none of the following families were found: Arial\n",
      "findfont: Generic family 'sans-serif' not found because none of the following families were found: Arial\n",
      "findfont: Generic family 'sans-serif' not found because none of the following families were found: Arial\n",
      "findfont: Generic family 'sans-serif' not found because none of the following families were found: Arial\n",
      "findfont: Generic family 'sans-serif' not found because none of the following families were found: Arial\n",
      "findfont: Generic family 'sans-serif' not found because none of the following families were found: Arial\n",
      "findfont: Generic family 'sans-serif' not found because none of the following families were found: Arial\n",
      "findfont: Generic family 'sans-serif' not found because none of the following families were found: Arial\n",
      "findfont: Generic family 'sans-serif' not found because none of the following families were found: Arial\n",
      "findfont: Generic family 'sans-serif' not found because none of the following families were found: Arial\n",
      "findfont: Generic family 'sans-serif' not found because none of the following families were found: Arial\n",
      "findfont: Generic family 'sans-serif' not found because none of the following families were found: Arial\n",
      "findfont: Generic family 'sans-serif' not found because none of the following families were found: Arial\n",
      "findfont: Generic family 'sans-serif' not found because none of the following families were found: Arial\n",
      "findfont: Generic family 'sans-serif' not found because none of the following families were found: Arial\n",
      "findfont: Generic family 'sans-serif' not found because none of the following families were found: Arial\n",
      "findfont: Generic family 'sans-serif' not found because none of the following families were found: Arial\n",
      "findfont: Generic family 'sans-serif' not found because none of the following families were found: Arial\n",
      "findfont: Generic family 'sans-serif' not found because none of the following families were found: Arial\n",
      "findfont: Generic family 'sans-serif' not found because none of the following families were found: Arial\n",
      "findfont: Generic family 'sans-serif' not found because none of the following families were found: Arial\n",
      "findfont: Generic family 'sans-serif' not found because none of the following families were found: Arial\n",
      "findfont: Generic family 'sans-serif' not found because none of the following families were found: Arial\n",
      "findfont: Generic family 'sans-serif' not found because none of the following families were found: Arial\n",
      "findfont: Generic family 'sans-serif' not found because none of the following families were found: Arial\n",
      "findfont: Generic family 'sans-serif' not found because none of the following families were found: Arial\n",
      "findfont: Generic family 'sans-serif' not found because none of the following families were found: Arial\n",
      "findfont: Generic family 'sans-serif' not found because none of the following families were found: Arial\n",
      "findfont: Generic family 'sans-serif' not found because none of the following families were found: Arial\n",
      "findfont: Generic family 'sans-serif' not found because none of the following families were found: Arial\n",
      "findfont: Generic family 'sans-serif' not found because none of the following families were found: Arial\n",
      "findfont: Generic family 'sans-serif' not found because none of the following families were found: Arial\n"
     ]
    },
    {
     "name": "stdout",
     "output_type": "stream",
     "text": [
      "Saved /exports/igmm/eddie/ponting-lab/ava/ME_CSF_Hifibio/raw_data/PLRC_HD055V2_fresh_PBMC_CD8_10xscGEX/outs/raw_feature_bc_matrix//scrublet_EDR0.008_DoubletScores.csv\n",
      "Saved /exports/igmm/eddie/ponting-lab/ava/ME_CSF_Hifibio/raw_data/PLRC_HD055V2_fresh_PBMC_CD8_10xscGEX/outs/raw_feature_bc_matrix//scrublet_EDR0.008_PredictedDoublets.csv\n"
     ]
    },
    {
     "name": "stderr",
     "output_type": "stream",
     "text": [
      "findfont: Generic family 'sans-serif' not found because none of the following families were found: Arial\n",
      "findfont: Generic family 'sans-serif' not found because none of the following families were found: Arial\n",
      "findfont: Generic family 'sans-serif' not found because none of the following families were found: Arial\n",
      "findfont: Generic family 'sans-serif' not found because none of the following families were found: Arial\n",
      "findfont: Generic family 'sans-serif' not found because none of the following families were found: Arial\n",
      "findfont: Generic family 'sans-serif' not found because none of the following families were found: Arial\n",
      "findfont: Generic family 'sans-serif' not found because none of the following families were found: Arial\n",
      "findfont: Generic family 'sans-serif' not found because none of the following families were found: Arial\n",
      "findfont: Generic family 'sans-serif' not found because none of the following families were found: Arial\n",
      "findfont: Generic family 'sans-serif' not found because none of the following families were found: Arial\n",
      "findfont: Generic family 'sans-serif' not found because none of the following families were found: Arial\n",
      "findfont: Generic family 'sans-serif' not found because none of the following families were found: Arial\n",
      "findfont: Generic family 'sans-serif' not found because none of the following families were found: Arial\n",
      "findfont: Generic family 'sans-serif' not found because none of the following families were found: Arial\n",
      "findfont: Generic family 'sans-serif' not found because none of the following families were found: Arial\n",
      "findfont: Generic family 'sans-serif' not found because none of the following families were found: Arial\n",
      "findfont: Generic family 'sans-serif' not found because none of the following families were found: Arial\n",
      "findfont: Generic family 'sans-serif' not found because none of the following families were found: Arial\n",
      "findfont: Generic family 'sans-serif' not found because none of the following families were found: Arial\n",
      "findfont: Generic family 'sans-serif' not found because none of the following families were found: Arial\n",
      "findfont: Generic family 'sans-serif' not found because none of the following families were found: Arial\n",
      "findfont: Generic family 'sans-serif' not found because none of the following families were found: Arial\n",
      "findfont: Generic family 'sans-serif' not found because none of the following families were found: Arial\n",
      "findfont: Generic family 'sans-serif' not found because none of the following families were found: Arial\n",
      "findfont: Generic family 'sans-serif' not found because none of the following families were found: Arial\n",
      "findfont: Generic family 'sans-serif' not found because none of the following families were found: Arial\n",
      "findfont: Generic family 'sans-serif' not found because none of the following families were found: Arial\n",
      "findfont: Generic family 'sans-serif' not found because none of the following families were found: Arial\n",
      "findfont: Generic family 'sans-serif' not found because none of the following families were found: Arial\n",
      "findfont: Generic family 'sans-serif' not found because none of the following families were found: Arial\n",
      "findfont: Generic family 'sans-serif' not found because none of the following families were found: Arial\n",
      "findfont: Generic family 'sans-serif' not found because none of the following families were found: Arial\n",
      "findfont: Generic family 'sans-serif' not found because none of the following families were found: Arial\n",
      "findfont: Generic family 'sans-serif' not found because none of the following families were found: Arial\n",
      "findfont: Generic family 'sans-serif' not found because none of the following families were found: Arial\n"
     ]
    },
    {
     "data": {
      "image/png": "[encoded data removed]",
      "text/plain": [
       "<Figure size 800x300 with 2 Axes>"
      ]
     },
     "metadata": {},
     "output_type": "display_data"
    }
   ],
   "source": [
    "# doublet rates in 1000 cells normally ~0.8% per 1k cells\n",
    "edr = 0.008\n",
    "expected_doublet_rate = float(edr)*counts_matrix.shape[0]/1000\n",
    "print('EDR: {}'.format(expected_doublet_rate))\n",
    "scrub = scr.Scrublet(counts_matrix.X, expected_doublet_rate = float(expected_doublet_rate))\n",
    "doublet_scores, predicted_doublets = scrub.scrub_doublets(min_counts=2,\n",
    "                                                          min_cells=3, \n",
    "                                                          min_gene_variability_pctl=60, \n",
    "                                                          n_prin_comps=30,\n",
    "                                                          log_transform=True,\n",
    "                                                          mean_center=True,\n",
    "                                                          normalize_variance=True,\n",
    "                                                          synthetic_doublet_umi_subsampling = 1)\n",
    "# after examining the bimodal distribution by eye, insert the threshold here\n",
    "scrub.call_doublets(threshold=0.15)\n",
    "scrub.plot_histogram()\n",
    "\n",
    "outf1 = this_dir + \"/scrublet_EDR\" + str(edr) + \"_DoubletScores.csv\"\n",
    "outf2 = this_dir + \"/scrublet_EDR\" + str(edr) + \"_PredictedDoublets.csv\"\n",
    "np.savetxt(outf1, doublet_scores, delimiter=',')\n",
    "np.savetxt(outf2, predicted_doublets, delimiter=',')\n",
    "print(\"Saved \" + outf1)\n",
    "print(\"Saved \" + outf2)"
   ]
  },
  {
   "cell_type": "code",
   "execution_count": 22,
   "id": "5",
   "metadata": {},
   "outputs": [
    {
     "ename": "NameError",
     "evalue": "name 'sample_dirs' is not defined",
     "output_type": "error",
     "traceback": [
      "\u001b[0;31m---------------------------------------------------------------------------\u001b[0m",
      "\u001b[0;31mNameError\u001b[0m                                 Traceback (most recent call last)",
      "Cell \u001b[0;32mIn[22], line 1\u001b[0m\n\u001b[0;32m----> 1\u001b[0m \u001b[38;5;28;01mfor\u001b[39;00m s \u001b[38;5;129;01min\u001b[39;00m \u001b[43msample_dirs\u001b[49m:\n\u001b[1;32m      2\u001b[0m     outf1 \u001b[38;5;241m=\u001b[39m s \u001b[38;5;241m+\u001b[39m \u001b[38;5;124m\"\u001b[39m\u001b[38;5;124m/scrublet_EDR\u001b[39m\u001b[38;5;124m\"\u001b[39m \u001b[38;5;241m+\u001b[39m \u001b[38;5;28mstr\u001b[39m(edr) \u001b[38;5;241m+\u001b[39m \u001b[38;5;124m\"\u001b[39m\u001b[38;5;124m_DoubletScores.csv\u001b[39m\u001b[38;5;124m\"\u001b[39m\n\u001b[1;32m      3\u001b[0m     \u001b[38;5;28mprint\u001b[39m(outf1)\n",
      "\u001b[0;31mNameError\u001b[0m: name 'sample_dirs' is not defined"
     ]
    }
   ],
   "source": [
    "for s in sample_dirs:\n",
    "    outf1 = s + \"/scrublet_EDR\" + str(edr) + \"_DoubletScores.csv\"\n",
    "    print(outf1)"
   ]
  },
  {
   "cell_type": "code",
   "execution_count": null,
   "id": "6",
   "metadata": {},
   "outputs": [],
   "source": [
    "%matplotlib inline\n",
    "\n",
    "for s in sample_dirs:\n",
    "    \n",
    "    # load count matrix\n",
    "    if False:\n",
    "        counts_matrix=sc.read_10x_h5(s)\n",
    "\n",
    "    counts_matrix=sc.read_10x_mtx(\n",
    "        s,\n",
    "        var_names='gene_symbols',\n",
    "        cache=True\n",
    "    )\n",
    "    \n",
    "    # doublet rates in 1000 cells normally ~0.8% per 1k cells\n",
    "    edr = 0.008\n",
    "    expected_doublet_rate = float(edr)*counts_matrix.shape[0]/1000\n",
    "    print('EDR: {}'.format(expected_doublet_rate))\n",
    "    \n",
    "    scrub = scr.Scrublet(counts_matrix.X, expected_doublet_rate = float(expected_doublet_rate))\n",
    "    \n",
    "    doublet_scores, predicted_doublets = scrub.scrub_doublets(min_counts=2,\n",
    "                                                      min_cells=3, \n",
    "                                                      min_gene_variability_pctl=60, \n",
    "                                                      n_prin_comps=30,\n",
    "                                                      log_transform=True,\n",
    "                                                      mean_center=True,\n",
    "                                                      normalize_variance=True,\n",
    "                                                      synthetic_doublet_umi_subsampling = 1)\n",
    "    \n",
    "    # after examining the bimodal distribution by eye, insert the threshold here\n",
    "    scrub.call_doublets(threshold=0.15)\n",
    "    scrub.plot_histogram()\n",
    "\n",
    "    outf1 = s + \"/scrublet_EDR\" + str(edr) + \"_DoubletScores.csv\"\n",
    "    outf2 = s + \"/scrublet_EDR\" + str(edr) + \"_PredictedDoublets.csv\"\n",
    "    np.savetxt(outf1, doublet_scores, delimiter=',')\n",
    "    np.savetxt(outf2, predicted_doublets, delimiter=',')\n",
    "    print(\"Saved \" + outf1)\n",
    "    print(\"Saved \" + outf2)\n"
   ]
  },
  {
   "cell_type": "markdown",
   "id": "7",
   "metadata": {},
   "source": [
    "## Check 2 of the samples that look different"
   ]
  },
  {
   "cell_type": "code",
   "execution_count": null,
   "id": "8",
   "metadata": {},
   "outputs": [],
   "source": [
    "# load count matrix\n",
    "counts_matrix = sc.read_10x_mtx(\n",
    "    this_dir,  # the directory with the `.mtx` file\n",
    "    var_names='gene_symbols',   # use gene symbols for the variable names (genes)\n",
    "    cache=True                 # cache the data\n",
    ")\n",
    "# alternatively laod count matrix in h5 format (if available)\n",
    "if False: \n",
    "    counts_matrix = sc.read_10x_h5(this_dir)\n",
    "    \n",
    "# doublet rates in 1000 cells normally ~0.8% per 1k cells\n",
    "edr = 0.008\n",
    "expected_doublet_rate = float(edr)*counts_matrix.shape[0]/1000\n",
    "print('EDR: {}'.format(expected_doublet_rate))\n",
    "    \n",
    "scrub = scr.Scrublet(counts_matrix.X, expected_doublet_rate = float(expected_doublet_rate))\n",
    "    \n",
    "doublet_scores, predicted_doublets = scrub.scrub_doublets(min_counts=2,\n",
    "                                                          min_cells=3,\n",
    "                                                          min_gene_variability_pctl=60, \n",
    "                                                          n_prin_comps=30,\n",
    "                                                          log_transform=True,\n",
    "                                                          mean_center=True,\n",
    "                                                          normalize_variance=True,\n",
    "                                                          synthetic_doublet_umi_subsampling = 1)\n",
    "    \n",
    "# after examining the bimodal distribution by eye, insert the threshold here\n",
    "scrub.call_doublets(threshold=0.2)\n",
    "scrub.plot_histogram()"
   ]
  }
 ],
 "metadata": {
  "kernelspec": {
   "display_name": "Python 3 (ipykernel)",
   "language": "python",
   "name": "python3"
  },
  "language_info": {
   "codemirror_mode": {
    "name": "ipython",
    "version": 3
   },
   "file_extension": ".py",
   "mimetype": "text/x-python",
   "name": "python",
   "nbconvert_exporter": "python",
   "pygments_lexer": "ipython3",
   "version": "3.11.4"
  }
 },
 "nbformat": 4,
 "nbformat_minor": 5
}
